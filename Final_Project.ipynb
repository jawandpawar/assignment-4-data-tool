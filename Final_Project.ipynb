{
 "cells": [
  {
   "cell_type": "code",
   "execution_count": 1,
   "metadata": {},
   "outputs": [],
   "source": [
    "import pandas as pd\n",
    "import matplotlib.pyplot as plt\n",
    "%matplotlib inline\n",
    "import numpy as np"
   ]
  },
  {
   "cell_type": "code",
   "execution_count": 2,
   "metadata": {},
   "outputs": [
    {
     "data": {
      "text/html": [
       "<div>\n",
       "<style scoped>\n",
       "    .dataframe tbody tr th:only-of-type {\n",
       "        vertical-align: middle;\n",
       "    }\n",
       "\n",
       "    .dataframe tbody tr th {\n",
       "        vertical-align: top;\n",
       "    }\n",
       "\n",
       "    .dataframe thead th {\n",
       "        text-align: right;\n",
       "    }\n",
       "</style>\n",
       "<table border=\"1\" class=\"dataframe\">\n",
       "  <thead>\n",
       "    <tr style=\"text-align: right;\">\n",
       "      <th></th>\n",
       "      <th>Timestamp</th>\n",
       "      <th>Age</th>\n",
       "      <th>Gender</th>\n",
       "      <th>Country</th>\n",
       "      <th>state</th>\n",
       "      <th>self_employed</th>\n",
       "      <th>family_history</th>\n",
       "      <th>treatment</th>\n",
       "      <th>work_interfere</th>\n",
       "      <th>no_employees</th>\n",
       "      <th>...</th>\n",
       "      <th>leave</th>\n",
       "      <th>mental_health_consequence</th>\n",
       "      <th>phys_health_consequence</th>\n",
       "      <th>coworkers</th>\n",
       "      <th>supervisor</th>\n",
       "      <th>mental_health_interview</th>\n",
       "      <th>phys_health_interview</th>\n",
       "      <th>mental_vs_physical</th>\n",
       "      <th>obs_consequence</th>\n",
       "      <th>comments</th>\n",
       "    </tr>\n",
       "  </thead>\n",
       "  <tbody>\n",
       "    <tr>\n",
       "      <th>0</th>\n",
       "      <td>2014-08-27 11:29:31</td>\n",
       "      <td>37</td>\n",
       "      <td>Female</td>\n",
       "      <td>United States</td>\n",
       "      <td>IL</td>\n",
       "      <td>NaN</td>\n",
       "      <td>No</td>\n",
       "      <td>Yes</td>\n",
       "      <td>Often</td>\n",
       "      <td>6-25</td>\n",
       "      <td>...</td>\n",
       "      <td>Somewhat easy</td>\n",
       "      <td>No</td>\n",
       "      <td>No</td>\n",
       "      <td>Some of them</td>\n",
       "      <td>Yes</td>\n",
       "      <td>No</td>\n",
       "      <td>Maybe</td>\n",
       "      <td>Yes</td>\n",
       "      <td>No</td>\n",
       "      <td>NaN</td>\n",
       "    </tr>\n",
       "    <tr>\n",
       "      <th>1</th>\n",
       "      <td>2014-08-27 11:29:37</td>\n",
       "      <td>44</td>\n",
       "      <td>M</td>\n",
       "      <td>United States</td>\n",
       "      <td>IN</td>\n",
       "      <td>NaN</td>\n",
       "      <td>No</td>\n",
       "      <td>No</td>\n",
       "      <td>Rarely</td>\n",
       "      <td>More than 1000</td>\n",
       "      <td>...</td>\n",
       "      <td>Don't know</td>\n",
       "      <td>Maybe</td>\n",
       "      <td>No</td>\n",
       "      <td>No</td>\n",
       "      <td>No</td>\n",
       "      <td>No</td>\n",
       "      <td>No</td>\n",
       "      <td>Don't know</td>\n",
       "      <td>No</td>\n",
       "      <td>NaN</td>\n",
       "    </tr>\n",
       "    <tr>\n",
       "      <th>2</th>\n",
       "      <td>2014-08-27 11:29:44</td>\n",
       "      <td>32</td>\n",
       "      <td>Male</td>\n",
       "      <td>Canada</td>\n",
       "      <td>NaN</td>\n",
       "      <td>NaN</td>\n",
       "      <td>No</td>\n",
       "      <td>No</td>\n",
       "      <td>Rarely</td>\n",
       "      <td>6-25</td>\n",
       "      <td>...</td>\n",
       "      <td>Somewhat difficult</td>\n",
       "      <td>No</td>\n",
       "      <td>No</td>\n",
       "      <td>Yes</td>\n",
       "      <td>Yes</td>\n",
       "      <td>Yes</td>\n",
       "      <td>Yes</td>\n",
       "      <td>No</td>\n",
       "      <td>No</td>\n",
       "      <td>NaN</td>\n",
       "    </tr>\n",
       "    <tr>\n",
       "      <th>3</th>\n",
       "      <td>2014-08-27 11:29:46</td>\n",
       "      <td>31</td>\n",
       "      <td>Male</td>\n",
       "      <td>United Kingdom</td>\n",
       "      <td>NaN</td>\n",
       "      <td>NaN</td>\n",
       "      <td>Yes</td>\n",
       "      <td>Yes</td>\n",
       "      <td>Often</td>\n",
       "      <td>26-100</td>\n",
       "      <td>...</td>\n",
       "      <td>Somewhat difficult</td>\n",
       "      <td>Yes</td>\n",
       "      <td>Yes</td>\n",
       "      <td>Some of them</td>\n",
       "      <td>No</td>\n",
       "      <td>Maybe</td>\n",
       "      <td>Maybe</td>\n",
       "      <td>No</td>\n",
       "      <td>Yes</td>\n",
       "      <td>NaN</td>\n",
       "    </tr>\n",
       "    <tr>\n",
       "      <th>4</th>\n",
       "      <td>2014-08-27 11:30:22</td>\n",
       "      <td>31</td>\n",
       "      <td>Male</td>\n",
       "      <td>United States</td>\n",
       "      <td>TX</td>\n",
       "      <td>NaN</td>\n",
       "      <td>No</td>\n",
       "      <td>No</td>\n",
       "      <td>Never</td>\n",
       "      <td>100-500</td>\n",
       "      <td>...</td>\n",
       "      <td>Don't know</td>\n",
       "      <td>No</td>\n",
       "      <td>No</td>\n",
       "      <td>Some of them</td>\n",
       "      <td>Yes</td>\n",
       "      <td>Yes</td>\n",
       "      <td>Yes</td>\n",
       "      <td>Don't know</td>\n",
       "      <td>No</td>\n",
       "      <td>NaN</td>\n",
       "    </tr>\n",
       "  </tbody>\n",
       "</table>\n",
       "<p>5 rows × 27 columns</p>\n",
       "</div>"
      ],
      "text/plain": [
       "             Timestamp  Age  Gender         Country state self_employed  \\\n",
       "0  2014-08-27 11:29:31   37  Female   United States    IL           NaN   \n",
       "1  2014-08-27 11:29:37   44       M   United States    IN           NaN   \n",
       "2  2014-08-27 11:29:44   32    Male          Canada   NaN           NaN   \n",
       "3  2014-08-27 11:29:46   31    Male  United Kingdom   NaN           NaN   \n",
       "4  2014-08-27 11:30:22   31    Male   United States    TX           NaN   \n",
       "\n",
       "  family_history treatment work_interfere    no_employees  ...  \\\n",
       "0             No       Yes          Often            6-25  ...   \n",
       "1             No        No         Rarely  More than 1000  ...   \n",
       "2             No        No         Rarely            6-25  ...   \n",
       "3            Yes       Yes          Often          26-100  ...   \n",
       "4             No        No          Never         100-500  ...   \n",
       "\n",
       "                leave mental_health_consequence phys_health_consequence  \\\n",
       "0       Somewhat easy                        No                      No   \n",
       "1          Don't know                     Maybe                      No   \n",
       "2  Somewhat difficult                        No                      No   \n",
       "3  Somewhat difficult                       Yes                     Yes   \n",
       "4          Don't know                        No                      No   \n",
       "\n",
       "      coworkers supervisor mental_health_interview phys_health_interview  \\\n",
       "0  Some of them        Yes                      No                 Maybe   \n",
       "1            No         No                      No                    No   \n",
       "2           Yes        Yes                     Yes                   Yes   \n",
       "3  Some of them         No                   Maybe                 Maybe   \n",
       "4  Some of them        Yes                     Yes                   Yes   \n",
       "\n",
       "  mental_vs_physical obs_consequence comments  \n",
       "0                Yes              No      NaN  \n",
       "1         Don't know              No      NaN  \n",
       "2                 No              No      NaN  \n",
       "3                 No             Yes      NaN  \n",
       "4         Don't know              No      NaN  \n",
       "\n",
       "[5 rows x 27 columns]"
      ]
     },
     "execution_count": 2,
     "metadata": {},
     "output_type": "execute_result"
    }
   ],
   "source": [
    "raw_data =pd.read_csv('survey.csv')\n",
    "raw_data.head()"
   ]
  },
  {
   "cell_type": "code",
   "execution_count": 3,
   "metadata": {},
   "outputs": [
    {
     "data": {
      "text/plain": [
       "['Timestamp',\n",
       " 'Age',\n",
       " 'Gender',\n",
       " 'Country',\n",
       " 'state',\n",
       " 'self_employed',\n",
       " 'family_history',\n",
       " 'treatment',\n",
       " 'work_interfere',\n",
       " 'no_employees',\n",
       " 'remote_work',\n",
       " 'tech_company',\n",
       " 'benefits',\n",
       " 'care_options',\n",
       " 'wellness_program',\n",
       " 'seek_help',\n",
       " 'anonymity',\n",
       " 'leave',\n",
       " 'mental_health_consequence',\n",
       " 'phys_health_consequence',\n",
       " 'coworkers',\n",
       " 'supervisor',\n",
       " 'mental_health_interview',\n",
       " 'phys_health_interview',\n",
       " 'mental_vs_physical',\n",
       " 'obs_consequence',\n",
       " 'comments']"
      ]
     },
     "execution_count": 3,
     "metadata": {},
     "output_type": "execute_result"
    }
   ],
   "source": [
    "list(raw_data.columns)"
   ]
  },
  {
   "cell_type": "code",
   "execution_count": 4,
   "metadata": {},
   "outputs": [],
   "source": [
    "def treatment(df):\n",
    "\n",
    "    treatment_df =df.groupby([\"Country\",\"state\",\"treatment\",\"mental_health_consequence\",\"no_employees\"]).size().reset_index()\n",
    "    return treatment_df"
   ]
  },
  {
   "cell_type": "code",
   "execution_count": 5,
   "metadata": {},
   "outputs": [],
   "source": [
    "df2 = treatment(raw_data)"
   ]
  },
  {
   "cell_type": "code",
   "execution_count": 6,
   "metadata": {},
   "outputs": [
    {
     "name": "stdout",
     "output_type": "stream",
     "text": [
      "           Country state treatment mental_health_consequence    no_employees  \\\n",
      "0     Bahamas, The    IL       Yes                       Yes             1-5   \n",
      "1         Bulgaria    UT       Yes                     Maybe          26-100   \n",
      "2           Israel    MD        No                     Maybe            6-25   \n",
      "3           Latvia    NY        No                     Maybe          26-100   \n",
      "4    United States    AL        No                     Maybe         100-500   \n",
      "5    United States    AL       Yes                     Maybe          26-100   \n",
      "6    United States    AL       Yes                     Maybe            6-25   \n",
      "7    United States    AL       Yes                        No             1-5   \n",
      "8    United States    AL       Yes                        No         100-500   \n",
      "9    United States    AL       Yes                        No          26-100   \n",
      "10   United States    AL       Yes                       Yes             1-5   \n",
      "11   United States    AZ        No                     Maybe  More than 1000   \n",
      "12   United States    AZ       Yes                     Maybe             1-5   \n",
      "13   United States    AZ       Yes                     Maybe          26-100   \n",
      "14   United States    AZ       Yes                     Maybe        500-1000   \n",
      "15   United States    AZ       Yes                     Maybe            6-25   \n",
      "16   United States    AZ       Yes                        No          26-100   \n",
      "17   United States    AZ       Yes                       Yes          26-100   \n",
      "18   United States    CA        No                     Maybe             1-5   \n",
      "19   United States    CA        No                     Maybe         100-500   \n",
      "20   United States    CA        No                     Maybe          26-100   \n",
      "21   United States    CA        No                     Maybe        500-1000   \n",
      "22   United States    CA        No                     Maybe            6-25   \n",
      "23   United States    CA        No                     Maybe  More than 1000   \n",
      "24   United States    CA        No                        No             1-5   \n",
      "25   United States    CA        No                        No         100-500   \n",
      "26   United States    CA        No                        No          26-100   \n",
      "27   United States    CA        No                        No            6-25   \n",
      "28   United States    CA        No                        No  More than 1000   \n",
      "29   United States    CA        No                       Yes         100-500   \n",
      "..             ...   ...       ...                       ...             ...   \n",
      "398  United States    WA        No                       Yes          26-100   \n",
      "399  United States    WA        No                       Yes        500-1000   \n",
      "400  United States    WA        No                       Yes  More than 1000   \n",
      "401  United States    WA       Yes                     Maybe             1-5   \n",
      "402  United States    WA       Yes                     Maybe         100-500   \n",
      "403  United States    WA       Yes                     Maybe          26-100   \n",
      "404  United States    WA       Yes                     Maybe        500-1000   \n",
      "405  United States    WA       Yes                     Maybe            6-25   \n",
      "406  United States    WA       Yes                     Maybe  More than 1000   \n",
      "407  United States    WA       Yes                        No             1-5   \n",
      "408  United States    WA       Yes                        No          26-100   \n",
      "409  United States    WA       Yes                        No        500-1000   \n",
      "410  United States    WA       Yes                        No  More than 1000   \n",
      "411  United States    WA       Yes                       Yes         100-500   \n",
      "412  United States    WA       Yes                       Yes          26-100   \n",
      "413  United States    WA       Yes                       Yes            6-25   \n",
      "414  United States    WA       Yes                       Yes  More than 1000   \n",
      "415  United States    WI        No                     Maybe  More than 1000   \n",
      "416  United States    WI        No                        No            6-25   \n",
      "417  United States    WI        No                        No  More than 1000   \n",
      "418  United States    WI       Yes                     Maybe             1-5   \n",
      "419  United States    WI       Yes                        No             1-5   \n",
      "420  United States    WI       Yes                        No          26-100   \n",
      "421  United States    WI       Yes                        No            6-25   \n",
      "422  United States    WI       Yes                       Yes         100-500   \n",
      "423  United States    WI       Yes                       Yes          26-100   \n",
      "424  United States    WI       Yes                       Yes  More than 1000   \n",
      "425  United States    WV        No                       Yes            6-25   \n",
      "426  United States    WY        No                       Yes             1-5   \n",
      "427  United States    WY       Yes                        No             1-5   \n",
      "\n",
      "      0  \n",
      "0     1  \n",
      "1     1  \n",
      "2     1  \n",
      "3     1  \n",
      "4     1  \n",
      "5     2  \n",
      "6     1  \n",
      "7     1  \n",
      "8     1  \n",
      "9     1  \n",
      "10    1  \n",
      "11    1  \n",
      "12    1  \n",
      "13    1  \n",
      "14    1  \n",
      "15    1  \n",
      "16    1  \n",
      "17    1  \n",
      "18    1  \n",
      "19    1  \n",
      "20    1  \n",
      "21    3  \n",
      "22    3  \n",
      "23   12  \n",
      "24    2  \n",
      "25    1  \n",
      "26    1  \n",
      "27    4  \n",
      "28   12  \n",
      "29    1  \n",
      "..   ..  \n",
      "398   2  \n",
      "399   1  \n",
      "400   2  \n",
      "401   1  \n",
      "402   1  \n",
      "403   5  \n",
      "404   1  \n",
      "405   3  \n",
      "406   9  \n",
      "407   2  \n",
      "408   1  \n",
      "409   1  \n",
      "410   2  \n",
      "411   5  \n",
      "412   2  \n",
      "413   1  \n",
      "414   7  \n",
      "415   1  \n",
      "416   1  \n",
      "417   1  \n",
      "418   2  \n",
      "419   1  \n",
      "420   1  \n",
      "421   2  \n",
      "422   1  \n",
      "423   1  \n",
      "424   1  \n",
      "425   1  \n",
      "426   1  \n",
      "427   1  \n",
      "\n",
      "[428 rows x 6 columns]\n"
     ]
    }
   ],
   "source": [
    "print(df2)"
   ]
  },
  {
   "cell_type": "code",
   "execution_count": 7,
   "metadata": {},
   "outputs": [
    {
     "data": {
      "text/html": [
       "<div>\n",
       "<style scoped>\n",
       "    .dataframe tbody tr th:only-of-type {\n",
       "        vertical-align: middle;\n",
       "    }\n",
       "\n",
       "    .dataframe tbody tr th {\n",
       "        vertical-align: top;\n",
       "    }\n",
       "\n",
       "    .dataframe thead th {\n",
       "        text-align: right;\n",
       "    }\n",
       "</style>\n",
       "<table border=\"1\" class=\"dataframe\">\n",
       "  <thead>\n",
       "    <tr style=\"text-align: right;\">\n",
       "      <th></th>\n",
       "      <th>Country</th>\n",
       "      <th>state</th>\n",
       "      <th>treatment</th>\n",
       "      <th>mental_health_consequence</th>\n",
       "      <th>no_employees</th>\n",
       "      <th>0</th>\n",
       "    </tr>\n",
       "  </thead>\n",
       "  <tbody>\n",
       "    <tr>\n",
       "      <th>0</th>\n",
       "      <td>Bahamas, The</td>\n",
       "      <td>IL</td>\n",
       "      <td>Yes</td>\n",
       "      <td>Yes</td>\n",
       "      <td>1-5</td>\n",
       "      <td>1</td>\n",
       "    </tr>\n",
       "    <tr>\n",
       "      <th>1</th>\n",
       "      <td>Bulgaria</td>\n",
       "      <td>UT</td>\n",
       "      <td>Yes</td>\n",
       "      <td>Maybe</td>\n",
       "      <td>26-100</td>\n",
       "      <td>1</td>\n",
       "    </tr>\n",
       "    <tr>\n",
       "      <th>2</th>\n",
       "      <td>Israel</td>\n",
       "      <td>MD</td>\n",
       "      <td>No</td>\n",
       "      <td>Maybe</td>\n",
       "      <td>6-25</td>\n",
       "      <td>1</td>\n",
       "    </tr>\n",
       "    <tr>\n",
       "      <th>3</th>\n",
       "      <td>Latvia</td>\n",
       "      <td>NY</td>\n",
       "      <td>No</td>\n",
       "      <td>Maybe</td>\n",
       "      <td>26-100</td>\n",
       "      <td>1</td>\n",
       "    </tr>\n",
       "    <tr>\n",
       "      <th>4</th>\n",
       "      <td>United States</td>\n",
       "      <td>AL</td>\n",
       "      <td>No</td>\n",
       "      <td>Maybe</td>\n",
       "      <td>100-500</td>\n",
       "      <td>1</td>\n",
       "    </tr>\n",
       "  </tbody>\n",
       "</table>\n",
       "</div>"
      ],
      "text/plain": [
       "         Country state treatment mental_health_consequence no_employees  0\n",
       "0   Bahamas, The    IL       Yes                       Yes          1-5  1\n",
       "1       Bulgaria    UT       Yes                     Maybe       26-100  1\n",
       "2         Israel    MD        No                     Maybe         6-25  1\n",
       "3         Latvia    NY        No                     Maybe       26-100  1\n",
       "4  United States    AL        No                     Maybe      100-500  1"
      ]
     },
     "execution_count": 7,
     "metadata": {},
     "output_type": "execute_result"
    }
   ],
   "source": [
    "df2.head()"
   ]
  },
  {
   "cell_type": "code",
   "execution_count": 8,
   "metadata": {},
   "outputs": [
    {
     "name": "stdout",
     "output_type": "stream",
     "text": [
      "          Country state treatment mental_health_consequence    no_employees  0\n",
      "0    Bahamas, The    IL       Yes                       Yes             1-5  1\n",
      "1        Bulgaria    UT       Yes                     Maybe          26-100  1\n",
      "2          Israel    MD        No                     Maybe            6-25  1\n",
      "3          Latvia    NY        No                     Maybe          26-100  1\n",
      "4   United States    AL        No                     Maybe         100-500  1\n",
      "5   United States    AL       Yes                     Maybe          26-100  2\n",
      "6   United States    AL       Yes                     Maybe            6-25  1\n",
      "7   United States    AL       Yes                        No             1-5  1\n",
      "8   United States    AL       Yes                        No         100-500  1\n",
      "9   United States    AL       Yes                        No          26-100  1\n",
      "10  United States    AL       Yes                       Yes             1-5  1\n",
      "11  United States    AZ        No                     Maybe  More than 1000  1\n",
      "12  United States    AZ       Yes                     Maybe             1-5  1\n",
      "13  United States    AZ       Yes                     Maybe          26-100  1\n",
      "14  United States    AZ       Yes                     Maybe        500-1000  1\n"
     ]
    }
   ],
   "source": [
    "df2=df2.iloc[:15,:]\n",
    "print(df2)"
   ]
  },
  {
   "cell_type": "code",
   "execution_count": 9,
   "metadata": {},
   "outputs": [
    {
     "data": {
      "image/png": "[encoded data removed]",
      "text/plain": [
       "<Figure size 432x288 with 1 Axes>"
      ]
     },
     "metadata": {
      "needs_background": "light"
     },
     "output_type": "display_data"
    }
   ],
   "source": [
    "plt.bar(df2.state,df2.mental_health_consequence)\n",
    "plt.title(\"mental_health_consequence\")\n",
    "plt.xlabel(\"x axis label\")\n",
    "plt.ylabel(\"y axis label\")\n",
    "plt.show()"
   ]
  },
  {
   "cell_type": "code",
   "execution_count": 10,
   "metadata": {},
   "outputs": [
    {
     "data": {
      "image/png": "[encoded data removed]",
      "text/plain": [
       "<Figure size 432x288 with 1 Axes>"
      ]
     },
     "metadata": {
      "needs_background": "light"
     },
     "output_type": "display_data"
    }
   ],
   "source": [
    "plt.plot(df2.state,df2.treatment)\n",
    "plt.title(\"treatment\")\n",
    "plt.xlabel(\"x axis label\")\n",
    "plt.ylabel(\"y axis label\")\n",
    "plt.show()"
   ]
  },
  {
   "cell_type": "code",
   "execution_count": 11,
   "metadata": {},
   "outputs": [
    {
     "data": {
      "image/png": "[encoded data removed]",
      "text/plain": [
       "<Figure size 432x288 with 1 Axes>"
      ]
     },
     "metadata": {
      "needs_background": "light"
     },
     "output_type": "display_data"
    }
   ],
   "source": [
    "plt.plot(df2.Country,df2.treatment)\n",
    "plt.title(\"treatment\")\n",
    "plt.xlabel(\"x axis label\")\n",
    "plt.ylabel(\"y axis label\")\n",
    "plt.show()"
   ]
  },
  {
   "cell_type": "code",
   "execution_count": 12,
   "metadata": {},
   "outputs": [
    {
     "data": {
      "image/png": "[encoded data removed]",
      "text/plain": [
       "<Figure size 432x288 with 1 Axes>"
      ]
     },
     "metadata": {
      "needs_background": "light"
     },
     "output_type": "display_data"
    }
   ],
   "source": [
    "plt.bar(df2.Country,df2.mental_health_consequence)\n",
    "plt.title(\"mental_health_consequence\")\n",
    "plt.xlabel(\"x axis label\")\n",
    "plt.ylabel(\"y axis label\")\n",
    "plt.show()"
   ]
  },
  {
   "cell_type": "code",
   "execution_count": null,
   "metadata": {},
   "outputs": [],
   "source": []
  }
 ],
 "metadata": {
  "kernelspec": {
   "display_name": "Python 3",
   "language": "python",
   "name": "python3"
  },
  "language_info": {
   "codemirror_mode": {
    "name": "ipython",
    "version": 3
   },
   "file_extension": ".py",
   "mimetype": "text/x-python",
   "name": "python",
   "nbconvert_exporter": "python",
   "pygments_lexer": "ipython3",
   "version": "3.7.3"
  }
 },
 "nbformat": 4,
 "nbformat_minor": 2
}
